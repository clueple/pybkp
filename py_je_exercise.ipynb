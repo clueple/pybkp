{
 "cells": [
  {
   "cell_type": "markdown",
   "id": "e2787d4a-8228-4947-ae81-6f2b9541e18c",
   "metadata": {},
   "source": [
    "# **Double Entries For Internal Transfers**"
   ]
  },
  {
   "cell_type": "markdown",
   "id": "0f8747d9-9086-41c2-935a-5866491730f8",
   "metadata": {
    "tags": []
   },
   "source": [
    "# **Step1 - Identify Journal Entry Logic**\n",
    "\n",
    "## The result for the double entry will be in the following format:\n",
    "\n",
    "| je | pos |    date  | acct |     acct_descr | amt | dr | cr |\n",
    "|:--:|:---:|:--------:|:----:|:--------------:|:---:|:--:|:--:|\n",
    "|1   |  1  |2023-01-01| 10000|       Control  | 100 | 100| 00 |\n",
    "|1   |  2  |2023-01-01| 3026 |Shareholder loan|-100 |  00|-100|\n",
    "|1   |  3  |    00    |  00  |         -      |  00 |  00| 00 |\n",
    "|1   |  4  |2023-01-02| 1000 |Cash & deposit  | 100 | 100| 00 |\n",
    "|1   |  5  |2023-01-02| 10000|       Control  |-100 |  00|-100|\n",
    "|1   |  6  |    00    |  00  |         -      |  00 |  00| 00 |\n",
    "|----|-----|----------|------|----------------|-----|----|----|\n",
    "|2   |  1  |2023-01-03| 10000|       Control  | 200 | 200| 00 |\n",
    "|2   |  2  |2023-01-03| 1000 |Cash & deposit  |-200 |  00|-200|\n",
    "|2   |  3  |    00    |  00  |         -      |  00 |  00| 00 |\n",
    "|2   |  4  |2023-01-04| 1000 |Cash & deposit  | 200 | 200| 00 |\n",
    "|2   |  5  |2023-01-04| 10000|       Control  |-200 |  00|-200|\n",
    "|2   |  6  |    00    |  00  |         -      |  00 |  00| 00 |\n",
    "|----|-----|----------|------|----------------|-----|----|----|\n",
    "|3   |  1  |2023-01-05| 10000|       Control  | 300 | 300| 00 |\n",
    "|3   |  2  |2023-01-05| 1000 |Shareholder loan|-300 |  00|-300|\n",
    "|3   |  3  |    00    |  00  |         -      |  00 |  00| 00 |\n",
    "|3   |  4  |2023-01-06| 1000 |Cash & deposit  | 300 | 300| 00 |\n",
    "|3   |  5  |2023-01-06| 10000|       Control  |-300 |  00|-300|\n",
    "|3   |  6  |    00    |  00  |         -      |  00 |  00| 00 |\n",
    "|----|-----|----------|------|----------------|-----|----|----|"
   ]
  },
  {
   "cell_type": "markdown",
   "id": "d1aa58de-7ac1-40e2-92a7-295b979e3698",
   "metadata": {
    "tags": []
   },
   "source": [
    "# **Step2 - Identify Data Source and required Python packages**"
   ]
  },
  {
   "cell_type": "code",
   "execution_count": 1,
   "id": "4c34f7c8-2377-4989-8ebd-b4d057814a49",
   "metadata": {},
   "outputs": [
    {
     "data": {
      "text/html": [
       "<div>\n",
       "<style scoped>\n",
       "    .dataframe tbody tr th:only-of-type {\n",
       "        vertical-align: middle;\n",
       "    }\n",
       "\n",
       "    .dataframe tbody tr th {\n",
       "        vertical-align: top;\n",
       "    }\n",
       "\n",
       "    .dataframe thead th {\n",
       "        text-align: right;\n",
       "    }\n",
       "</style>\n",
       "<table border=\"1\" class=\"dataframe\">\n",
       "  <thead>\n",
       "    <tr style=\"text-align: right;\">\n",
       "      <th></th>\n",
       "      <th>chqdate</th>\n",
       "      <th>withdraw_bank</th>\n",
       "      <th>wbank_gl</th>\n",
       "      <th>withdraw_item</th>\n",
       "      <th>withdrawn_amt</th>\n",
       "      <th>deposit_date</th>\n",
       "      <th>deposit_bank</th>\n",
       "      <th>dbank_gl</th>\n",
       "      <th>deposit_item</th>\n",
       "      <th>deposit_amt</th>\n",
       "    </tr>\n",
       "  </thead>\n",
       "  <tbody>\n",
       "    <tr>\n",
       "      <th>0</th>\n",
       "      <td>2023-01-01 00:00:00</td>\n",
       "      <td>BMO</td>\n",
       "      <td>3026</td>\n",
       "      <td>Shareholder loan</td>\n",
       "      <td>100</td>\n",
       "      <td>2023-01-02 00:00:00</td>\n",
       "      <td>HSBC</td>\n",
       "      <td>1000</td>\n",
       "      <td>Cash &amp; deposit</td>\n",
       "      <td>100</td>\n",
       "    </tr>\n",
       "    <tr>\n",
       "      <th>1</th>\n",
       "      <td>2023-01-03 00:00:00</td>\n",
       "      <td>Royal Bank</td>\n",
       "      <td>1000</td>\n",
       "      <td>Cash &amp; deposit</td>\n",
       "      <td>200</td>\n",
       "      <td>2023-01-04 00:00:00</td>\n",
       "      <td>HSBC</td>\n",
       "      <td>1000</td>\n",
       "      <td>Cash &amp; deposit</td>\n",
       "      <td>200</td>\n",
       "    </tr>\n",
       "    <tr>\n",
       "      <th>2</th>\n",
       "      <td>2023-01-05 00:00:00</td>\n",
       "      <td>BNS</td>\n",
       "      <td>3026</td>\n",
       "      <td>Shareholder loan</td>\n",
       "      <td>300</td>\n",
       "      <td>2023-01-06 00:00:00</td>\n",
       "      <td>HSBC</td>\n",
       "      <td>1000</td>\n",
       "      <td>Cash &amp; deposit</td>\n",
       "      <td>300</td>\n",
       "    </tr>\n",
       "  </tbody>\n",
       "</table>\n",
       "</div>"
      ],
      "text/plain": [
       "               chqdate withdraw_bank  wbank_gl     withdraw_item  \\\n",
       "0  2023-01-01 00:00:00           BMO      3026  Shareholder loan   \n",
       "1  2023-01-03 00:00:00    Royal Bank      1000    Cash & deposit   \n",
       "2  2023-01-05 00:00:00           BNS      3026  Shareholder loan   \n",
       "\n",
       "   withdrawn_amt         deposit_date deposit_bank  dbank_gl    deposit_item  \\\n",
       "0            100  2023-01-02 00:00:00         HSBC      1000  Cash & deposit   \n",
       "1            200  2023-01-04 00:00:00         HSBC      1000  Cash & deposit   \n",
       "2            300  2023-01-06 00:00:00         HSBC      1000  Cash & deposit   \n",
       "\n",
       "   deposit_amt  \n",
       "0          100  \n",
       "1          200  \n",
       "2          300  "
      ]
     },
     "execution_count": 1,
     "metadata": {},
     "output_type": "execute_result"
    }
   ],
   "source": [
    "# Step 2.1 --- identify source data location\n",
    "src_file = r\"g:/example_interbank_raw_data.xlsx\"\n",
    "\n",
    "# Step 2.2 --- identify Python packages required \n",
    "import pandas as pd\n",
    "import numpy as np\n",
    "pd.set_option('display.max_columns',15)\n",
    "\n",
    "# Step 2.3 --- create dataframe, 'df', to store the table from source file\n",
    "df = pd.read_excel(src_file, dtype_backend='pyarrow').loc[:, 'chqdate':'deposit_amt'].dropna(how='all')\n",
    "df"
   ]
  },
  {
   "cell_type": "markdown",
   "id": "4fa9490e-0a57-40fc-9e73-e89e8749eb18",
   "metadata": {},
   "source": [
    "# **Step3 - Create'df1' (working table), 'jetb' (result table), and the key column; linked up with column,'je'**"
   ]
  },
  {
   "cell_type": "code",
   "execution_count": 2,
   "id": "0d3feac4-b4b6-4471-8af6-c7bd7172ef6d",
   "metadata": {},
   "outputs": [
    {
     "data": {
      "text/html": [
       "<div>\n",
       "<style scoped>\n",
       "    .dataframe tbody tr th:only-of-type {\n",
       "        vertical-align: middle;\n",
       "    }\n",
       "\n",
       "    .dataframe tbody tr th {\n",
       "        vertical-align: top;\n",
       "    }\n",
       "\n",
       "    .dataframe thead th {\n",
       "        text-align: right;\n",
       "    }\n",
       "</style>\n",
       "<table border=\"1\" class=\"dataframe\">\n",
       "  <thead>\n",
       "    <tr style=\"text-align: right;\">\n",
       "      <th></th>\n",
       "      <th>chqdate</th>\n",
       "      <th>withdraw_bank</th>\n",
       "      <th>wbank_gl</th>\n",
       "      <th>withdraw_item</th>\n",
       "      <th>withdrawn_amt</th>\n",
       "      <th>deposit_date</th>\n",
       "      <th>deposit_bank</th>\n",
       "      <th>dbank_gl</th>\n",
       "      <th>deposit_item</th>\n",
       "      <th>deposit_amt</th>\n",
       "      <th>je</th>\n",
       "    </tr>\n",
       "  </thead>\n",
       "  <tbody>\n",
       "    <tr>\n",
       "      <th>0</th>\n",
       "      <td>2023-01-01 00:00:00</td>\n",
       "      <td>BMO</td>\n",
       "      <td>3026</td>\n",
       "      <td>Shareholder loan</td>\n",
       "      <td>100</td>\n",
       "      <td>2023-01-02 00:00:00</td>\n",
       "      <td>HSBC</td>\n",
       "      <td>1000</td>\n",
       "      <td>Cash &amp; deposit</td>\n",
       "      <td>100</td>\n",
       "      <td>1</td>\n",
       "    </tr>\n",
       "    <tr>\n",
       "      <th>1</th>\n",
       "      <td>2023-01-03 00:00:00</td>\n",
       "      <td>Royal Bank</td>\n",
       "      <td>1000</td>\n",
       "      <td>Cash &amp; deposit</td>\n",
       "      <td>200</td>\n",
       "      <td>2023-01-04 00:00:00</td>\n",
       "      <td>HSBC</td>\n",
       "      <td>1000</td>\n",
       "      <td>Cash &amp; deposit</td>\n",
       "      <td>200</td>\n",
       "      <td>2</td>\n",
       "    </tr>\n",
       "    <tr>\n",
       "      <th>2</th>\n",
       "      <td>2023-01-05 00:00:00</td>\n",
       "      <td>BNS</td>\n",
       "      <td>3026</td>\n",
       "      <td>Shareholder loan</td>\n",
       "      <td>300</td>\n",
       "      <td>2023-01-06 00:00:00</td>\n",
       "      <td>HSBC</td>\n",
       "      <td>1000</td>\n",
       "      <td>Cash &amp; deposit</td>\n",
       "      <td>300</td>\n",
       "      <td>3</td>\n",
       "    </tr>\n",
       "  </tbody>\n",
       "</table>\n",
       "</div>"
      ],
      "text/plain": [
       "               chqdate withdraw_bank  wbank_gl     withdraw_item  \\\n",
       "0  2023-01-01 00:00:00           BMO      3026  Shareholder loan   \n",
       "1  2023-01-03 00:00:00    Royal Bank      1000    Cash & deposit   \n",
       "2  2023-01-05 00:00:00           BNS      3026  Shareholder loan   \n",
       "\n",
       "   withdrawn_amt         deposit_date deposit_bank  dbank_gl    deposit_item  \\\n",
       "0            100  2023-01-02 00:00:00         HSBC      1000  Cash & deposit   \n",
       "1            200  2023-01-04 00:00:00         HSBC      1000  Cash & deposit   \n",
       "2            300  2023-01-06 00:00:00         HSBC      1000  Cash & deposit   \n",
       "\n",
       "   deposit_amt  je  \n",
       "0          100   1  \n",
       "1          200   2  \n",
       "2          300   3  "
      ]
     },
     "execution_count": 2,
     "metadata": {},
     "output_type": "execute_result"
    }
   ],
   "source": [
    "# step 3.1 : assign journal entry numbers,'je', to each inter-bank transaction\n",
    "df1 = df.assign(je = df.index + 1)\n",
    "df1"
   ]
  },
  {
   "cell_type": "code",
   "execution_count": 3,
   "id": "8b051b60-2192-4055-be36-b7f441f8313f",
   "metadata": {},
   "outputs": [
    {
     "data": {
      "text/html": [
       "<div>\n",
       "<style scoped>\n",
       "    .dataframe tbody tr th:only-of-type {\n",
       "        vertical-align: middle;\n",
       "    }\n",
       "\n",
       "    .dataframe tbody tr th {\n",
       "        vertical-align: top;\n",
       "    }\n",
       "\n",
       "    .dataframe thead th {\n",
       "        text-align: right;\n",
       "    }\n",
       "</style>\n",
       "<table border=\"1\" class=\"dataframe\">\n",
       "  <thead>\n",
       "    <tr style=\"text-align: right;\">\n",
       "      <th></th>\n",
       "      <th>je</th>\n",
       "      <th>pos</th>\n",
       "      <th>date</th>\n",
       "      <th>acct</th>\n",
       "      <th>item</th>\n",
       "      <th>amt</th>\n",
       "      <th>dr</th>\n",
       "      <th>cr</th>\n",
       "    </tr>\n",
       "  </thead>\n",
       "  <tbody>\n",
       "  </tbody>\n",
       "</table>\n",
       "</div>"
      ],
      "text/plain": [
       "Empty DataFrame\n",
       "Columns: [je, pos, date, acct, item, amt, dr, cr]\n",
       "Index: []"
      ]
     },
     "execution_count": 3,
     "metadata": {},
     "output_type": "execute_result"
    }
   ],
   "source": [
    "# step 3.2 --- create a table, 'jetb' to hold the final result of journal entries\n",
    "jetb = pd.DataFrame(columns=['je','pos','date','acct','item','amt','dr','cr'])\n",
    "jetb"
   ]
  },
  {
   "cell_type": "code",
   "execution_count": null,
   "id": "5e939ec7-de68-4201-b235-ff25ccc1d062",
   "metadata": {},
   "outputs": [],
   "source": []
  }
 ],
 "metadata": {
  "kernelspec": {
   "display_name": "Python 3 (ipykernel)",
   "language": "python",
   "name": "python3"
  },
  "language_info": {
   "codemirror_mode": {
    "name": "ipython",
    "version": 3
   },
   "file_extension": ".py",
   "mimetype": "text/x-python",
   "name": "python",
   "nbconvert_exporter": "python",
   "pygments_lexer": "ipython3",
   "version": "3.10.1"
  }
 },
 "nbformat": 4,
 "nbformat_minor": 5
}
